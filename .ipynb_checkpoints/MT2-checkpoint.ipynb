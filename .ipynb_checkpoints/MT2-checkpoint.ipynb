{
 "cells": [
  {
   "cell_type": "markdown",
   "metadata": {},
   "source": [
    "## MIDTERM PROJECT-2 (MT2)\n",
    "\n",
    "## Due 8 April 2016 (Friday, 11:59pm)\n",
    "\n",
    "**Important Note:** Before uploading your midterm project on Canvas, please name your file as following:\n",
    "\n",
    "*MT#_FirstLastName.ipynb*\n",
    "\n",
    "where \"#\" denotes the midterm number, \"FirstLastName\" is the name of the student. Students are allowed to work in groups (2 or max. of 3 students). **Each student will hand in their own file**. If you work with another student, please write her/his name on top of the first cell (in a Markdown cell)."
   ]
  },
  {
   "cell_type": "markdown",
   "metadata": {},
   "source": [
    "**Question-1 (12/15 points): EVOLUTIONARY DECOMPOSITION**\n",
    "\n",
    "\n",
    "**A) (1/12 points)** Import the colonel.obj into MakerBot software and follow the instructions (**printing_settings.pdf**). What is the estimated printing time (you can see it from the preview window)?\n",
    "\n",
    "The original estimated printing time is 4 hours and 11 minutes.\n",
    "\n",
    "<img src=\"http://i.imgur.com/TkVsP2z.png\">\n",
    "\n",
    "\n",
    "**B) (2/12 points)** \n",
    "\n",
    "The estimated printing time for the manual cut is 3 hours and 33 minutes.\n",
    "\n",
    "<img src=\"http://i.imgur.com/EZEHWIw.png\">\n",
    "\n",
    "**At the end, import the two pieces created after the slicing process into MakerBot software and give the new estimated printing time.**\n",
    "\n",
    "**C) (4/12 points)** \n",
    "\n",
    "The estimated porinting time for the value found by the evolutionay algorithm is 3 hours and 34 minutes.\n",
    "\n",
    "\n",
    "<img src=\"http://i.imgur.com/nB6OIMa.png\">\n",
    "\n",
    "**C) (5/12 points)** Prepare your report in the following format:"
   ]
  },
  {
   "cell_type": "markdown",
   "metadata": {},
   "source": [
    "**Abstract**:\n",
    "\n",
    "3D printing objects comes with the disadvantage of having to print extra 'support structures' so that the printed object holds its shape. These lead to difigurations during post-processing and thus should be minimized. We can minimize them printing the objects in parts and gluing them later. In this exercize, we try to find the plane parallel to to the yz plane and passing through the X axis along which we can cut the object in order to lead to the fewest support structures.\n",
    "\n",
    "**Introduction**:\n",
    "\n",
    "*Fused Deposition Modelling (FDM)* refers to a 3D printing technique in which material such as plastic or metal is unwound from a coil and deposited by a heated nozzle in layers on a surface to produce a 3D printout resembling a 3D model (usually provided in .STL file format). It is an *additive* manufacturing technique, which means that the amount of material used to make an object is very close to the amount of material it actualy consists of. This saves wastages and thus the cost of printing items. This technique is widely used to produce prototypes rapidly which can then be produced by other manufacturing methods. However, the technique does come with some disadvantages. This technique is not quite scalable yet. Depending on the fineness of the printer, the output might not be very sooth. Also, since the material is molten, it might start to bend while being printed and thus need 'support structures' which can cause scars on the model while being removed during post processing. This second problem is what we address in this exercise.\n",
    "\n",
    "\n",
    "<figure>\n",
    "    <figcaption>Figure 1</figcaption>\n",
    "    <figcaption>Image source: http://printa3d.blogspot.com/p/design-tips.html</figcaption>\n",
    "    <img src=\"http://3.bp.blogspot.com/-pUbw4KI5Fy0/T6c9rNBCJlI/AAAAAAAACHs/RFIM4Q9e7fs/s400/design_tips01.jpg\" />\n",
    "</figure>\n",
    "\n",
    "Since FDM 3D printers use molten material to produce the output, models which contain like the ones shown in Figure 1 above are likely to droop. This happens because in such models, there is an increased amount of overhang in each subsequent printed layer which causes drooping. This problem is very hard to avoid with current technology and viable materials. One proposed solution is \n",
    "\n",
    "<img src=\"http://3.bp.blogspot.com/-pUbw4KI5Fy0/T6c9rNBCJlI/AAAAAAAACHs/RFIM4Q9e7fs/s400/design_tips01.jpg\">\n",
    "\n",
    "\n",
    "* First paragraph: A short description (3-5 sentences) about 3D printing (especially FDM process --*filament-based 3D printing* like the one we have in our lab), a few number of advantages and disadvantages of using it.\n",
    "* Second paragraph: A *detailed* description of the problem of using support structures and ways to solve or avoid it (if possible), and particularly, the methodology that you are following in this project.\n",
    "* Please don't forget to provide any references supporting your sentences.\n",
    "\n",
    "**Methodology**:\n",
    "\n",
    "* You are expected to use an evolutionary algorithm; please provide the details of your implementation (which operators you use?, how do you calculate the fitness values?, etc.)\n",
    "* Please provide the statistics about your calculations.\n",
    "\n",
    "**Results and Discussions**:\n",
    "\n",
    "* You can provide a figure showing the search space versus fitness values (1D-case: x-position of the cut versus fitness.\n",
    "* You can provide a figure showing the fitness values versus generations. \n",
    "\n",
    "**Conclusions**:\n",
    "\n",
    "* Wrap up your work like you do in Abstract section and provide detailed summary of the results. \n",
    "* If your approach didn't work, you can still give the arguments to help potential readers to avoid the same mistakes.\n",
    "\n",
    "**References**:\n",
    "\n",
    "* List your citations with the order of: Author1, Author2, \"Title of the article\", Name of the Journal or Conference that the paper published at, Pages, Year.  \n"
   ]
  },
  {
   "cell_type": "markdown",
   "metadata": {},
   "source": [
    "**Question-2 (3/15 points): RESEARCH ASSIGNMENT**\n",
    "\n",
    "Please find **3** research papers (**conference or journal publications**) related to 3D printing. You can use [Google Scholar](www.scholar.google.com) and use the search terms \"**3D printing**\" and \"**Siggraph**\" for instance, but you are not limited to. [SIGGRAPH](http://s2016.siggraph.org/conference) is an international conference on computer graphics. Very interesting research and industrial applications about 3D printing are presented every year.\n",
    "\n",
    "Some examples are below (Since I am providing the following papers as examples, don't repeat them):\n",
    "* Jacques Calì, Dan A. Calian, Cristina Amati, Rebecca Kleinberger, Anthony Steed, Jan Kautz, and Tim Weyrich. 2012. 3D-printing of non-assembly, articulated models. ACM Trans. Graph. 31, 6, Article 130 (November 2012), 8 pages. DOI=http://dx.doi.org/10.1145/2366145.2366149\n",
    "* Lin Lu, Andrei Sharf, Haisen Zhao, Yuan Wei, Qingnan Fan, Xuelin Chen, Yann Savoye, Changhe Tu, Daniel Cohen-Or, and Baoquan Chen. 2014. Build-to-last: strength to weight 3D printed objects. ACM Trans. Graph. 33, 4, Article 97 (July 2014), 10 pages. DOI=http://dx.doi.org/10.1145/2601097.2601168\n",
    "\n",
    "**IMPORTANT:** You  need to provide **min. 4 to 5 sentences** (more sentences will be appreciated) about each publication describing the problem being investigated, methodology and results. "
   ]
  },
  {
   "cell_type": "markdown",
   "metadata": {},
   "source": [
    "**THANK YOU**"
   ]
  }
 ],
 "metadata": {
  "kernelspec": {
   "display_name": "Python 2",
   "language": "python",
   "name": "python2"
  },
  "language_info": {
   "codemirror_mode": {
    "name": "ipython",
    "version": 2
   },
   "file_extension": ".py",
   "mimetype": "text/x-python",
   "name": "python",
   "nbconvert_exporter": "python",
   "pygments_lexer": "ipython2",
   "version": "2.7.11"
  }
 },
 "nbformat": 4,
 "nbformat_minor": 0
}

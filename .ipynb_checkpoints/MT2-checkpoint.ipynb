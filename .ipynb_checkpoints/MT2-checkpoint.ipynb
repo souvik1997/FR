{
 "cells": [
  {
   "cell_type": "markdown",
   "metadata": {},
   "source": [
    "## MIDTERM PROJECT-2 (MT2)\n",
    "\n",
    "## Due 8 April 2016 (Friday, 11:59pm)\n",
    "\n",
    "**Important Note:** Before uploading your midterm project on Canvas, please name your file as following:\n",
    "\n",
    "*MT#_FirstLastName.ipynb*\n",
    "\n",
    "where \"#\" denotes the midterm number, \"FirstLastName\" is the name of the student. Students are allowed to work in groups (2 or max. of 3 students). **Each student will hand in their own file**. If you work with another student, please write her/his name on top of the first cell (in a Markdown cell)."
   ]
  },
  {
   "cell_type": "markdown",
   "metadata": {},
   "source": [
    "**Question-1 (12/15 points): EVOLUTIONARY DECOMPOSITION**\n",
    "\n",
    "In this exercise, you will develop a methodology to avoid or reduce the amount of support structures to be used in 3D printing of the [Colonel](http://www.thingiverse.com/thing:108867) object. More specifically, you will integrate your evolution algorithm (**DEAP**) with a slicing code (**slicing.cpp**) that is uploaded in \"MT2.zip\" file. You also need to use the 3D object file that is provided to you (**Colonel.obj**). The slicing code written in C++ needs three other libraries ([EIGEN](http://eigen.tuxfamily.org/index.php?title=Main_Page), [IGL](http://libigl.github.io/libigl/), [CGAL](http://www.cgal.org/)) to be installed. We tried to provide you some guidelines for installation procedures (**installation_instructions.txt**) that is specifically prepared for **Ubuntu Linux**.  \n",
    "\n",
    "**A) (1/12 points)** Import the colonel.obj into MakerBot software and follow the instructions (**printing_settings.pdf**). What is the estimated printing time (you can see it from the preview window)?\n",
    "\n",
    "Besides the printing settings shown in the PDF file, some of the important settings are provided below to avoid confusion:\n",
    "* Travel Speed: 15 mm/s\n",
    "* Infill: 30%\n",
    "* Layer height (thickness): 0.3 mm\n",
    "* Infill pattern: hexagonal\n",
    "* Number of shells: 2\n",
    "* **No raft**\n",
    "* Supports (first option only)\n",
    "\n",
    "**B) (2/12 points)** After compiling the slicing.cpp file according to the provided instructions, you will obtain the **slicing** executable file. In order to execute this file you need a **cutinfo.txt** file which includes the following information (**8** numbers: first two are integers and they are fixed [0, 0], the rest will be floating point numbers), respectively:\n",
    "\n",
    "0, 0, X-coordinate of the slicing plane, Y-coordinate of the slicing plane, Z-coordinate of the slicing plane, X-coordinate of the (slicing) surface normal, Y-coordinate of the (slicing) surface normal, Z-coordinate of the (slicing) surface normal\n",
    "\n",
    "Now, we are asking you to find **only the X-coordinate** of the slicing plane (**3rd variable in the array given above**). **This implies that the cutting plane is being moved along the X-axis, perpendicular to Y and Z-planes.** Therefore the normal direction is fixed at [1.0, 0.0, 0.0]. \n",
    "\n",
    "Your \"cutinfo.txt\" file will look like this:\n",
    "\n",
    "0, 0, x, y, z, 1.0, 0.0, 0.0\n",
    "\n",
    "where **x** is a floating number and needs to be optimized by EA (DEAP), **y** and **z** values can be chosen as the Y and Z-coordinates of any point along the middle axis in the object (**these will be constant through out your evolutionary computation**). The meaning of the first two integer values [0,0] will be explained at the class.\n",
    "\n",
    "What we will be trying to do is similar to the process of combining objects with \"Hole\" objects in Tincercad. Please see the following figures (**a) before cut** and **b) after cut**). In our case, we will be keeping both of the pieces obtained after the slicing process in order to print the two pieces and glue them together.\n",
    "\n",
    "<img src= \"tinkercad_before_and_after_cut.png\">\n",
    "\n",
    "\n",
    "You need to execute the following command in a Terminal to perform the cut to be able to receive the fitness value (**it is pre-programmed for you**):\n",
    "$ **slicing colonel.obj cutinfo.txt**\n",
    "\n",
    "**Let's put the following values into \"cutinfo.txt\" and execute the slicing process:**\n",
    "\n",
    "0, 0, 40.0, 50.0, 43.5, 1.0, 0.0, 0.0\n",
    "\n",
    "**At the end, import the two pieces created after the slicing process into MakerBot software and give the new estimated printing time.**\n",
    "\n",
    "**C) (4/12 points)** Now, instead of manually picking the value of **X**-coordinate, let DEAP find the optimal value of it to have two pieces of the object which could be printed with **minimum** amount of support. Again, at the end, import the two pieces created after the slicing process into MakerBot software and give the new estimated printing time. These figures can be provided in the report (next question).\n",
    "\n",
    "**NOTE:** The **subprocess** module in Python can be **import**ed to execute the operations and the resulting value can be saved as the fitness value.\n",
    "\n",
    "**C) (5/12 points)** Prepare your report in the following format:"
   ]
  },
  {
   "cell_type": "markdown",
   "metadata": {},
   "source": [
    "**Abstract**: \n",
    "\n",
    "* **Briefly** explain the purpose of the exercise, the methodology you followed and the results you obtained. Only one paragraph.\n",
    "\n",
    "**Introduction**:\n",
    "\n",
    "* First paragraph: A short description (3-5 sentences) about 3D printing (especially FDM process --*filament-based 3D printing* like the one we have in our lab), a few number of advantages and disadvantages of using it.\n",
    "* Second paragraph: A *detailed* description of the problem of using support structures and ways to solve or avoid it (if possible), and particularly, the methodology that you are following in this project.\n",
    "* Please don't forget to provide any references supporting your sentences.\n",
    "\n",
    "**Methodology**:\n",
    "\n",
    "* You are expected to use an evolutionary algorithm; please provide the details of your implementation (which operators you use?, how do you calculate the fitness values?, etc.)\n",
    "* Please provide the statistics about your calculations.\n",
    "\n",
    "**Results and Discussions**:\n",
    "\n",
    "* You can provide a figure showing the search space versus fitness values (1D-case: x-position of the cut versus fitness.\n",
    "* You can provide a figure showing the fitness values versus generations. \n",
    "\n",
    "**Conclusions**:\n",
    "\n",
    "* Wrap up your work like you do in Abstract section and provide detailed summary of the results. \n",
    "* If your approach didn't work, you can still give the arguments to help potential readers to avoid the same mistakes.\n",
    "\n",
    "**References**:\n",
    "\n",
    "* List your citations with the order of: Author1, Author2, \"Title of the article\", Name of the Journal or Conference that the paper published at, Pages, Year.  \n"
   ]
  },
  {
   "cell_type": "markdown",
   "metadata": {},
   "source": [
    "**Question-2 (3/15 points): RESEARCH ASSIGNMENT**\n",
    "\n",
    "Please find **3** research papers (**conference or journal publications**) related to 3D printing. You can use [Google Scholar](www.scholar.google.com) and use the search terms \"**3D printing**\" and \"**Siggraph**\" for instance, but you are not limited to. [SIGGRAPH](http://s2016.siggraph.org/conference) is an international conference on computer graphics. Very interesting research and industrial applications about 3D printing are presented every year.\n",
    "\n",
    "Some examples are below (Since I am providing the following papers as examples, don't repeat them):\n",
    "* Jacques Calì, Dan A. Calian, Cristina Amati, Rebecca Kleinberger, Anthony Steed, Jan Kautz, and Tim Weyrich. 2012. 3D-printing of non-assembly, articulated models. ACM Trans. Graph. 31, 6, Article 130 (November 2012), 8 pages. DOI=http://dx.doi.org/10.1145/2366145.2366149\n",
    "* Lin Lu, Andrei Sharf, Haisen Zhao, Yuan Wei, Qingnan Fan, Xuelin Chen, Yann Savoye, Changhe Tu, Daniel Cohen-Or, and Baoquan Chen. 2014. Build-to-last: strength to weight 3D printed objects. ACM Trans. Graph. 33, 4, Article 97 (July 2014), 10 pages. DOI=http://dx.doi.org/10.1145/2601097.2601168\n",
    "\n",
    "**IMPORTANT:** You  need to provide **min. 4 to 5 sentences** (more sentences will be appreciated) about each publication describing the problem being investigated, methodology and results. "
   ]
  },
  {
   "cell_type": "markdown",
   "metadata": {},
   "source": [
    "**THANK YOU**"
   ]
  }
 ],
 "metadata": {
  "kernelspec": {
   "display_name": "Python 2",
   "language": "python",
   "name": "python2"
  },
  "language_info": {
   "codemirror_mode": {
    "name": "ipython",
    "version": 2
   },
   "file_extension": ".py",
   "mimetype": "text/x-python",
   "name": "python",
   "nbconvert_exporter": "python",
   "pygments_lexer": "ipython2",
   "version": "2.7.11"
  }
 },
 "nbformat": 4,
 "nbformat_minor": 0
}

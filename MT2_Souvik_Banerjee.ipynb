{
 "cells": [
  {
   "cell_type": "markdown",
   "metadata": {},
   "source": [
    "## MIDTERM PROJECT-2 (MT2)\n",
    "\n",
    "## Due 8 April 2016 (Friday, 11:59pm)\n",
    "\n",
    "**Important Note:** Before uploading your midterm project on Canvas, please name your file as following:\n",
    "\n",
    "*MT#_FirstLastName.ipynb*\n",
    "\n",
    "where \"#\" denotes the midterm number, \"FirstLastName\" is the name of the student. Students are allowed to work in groups (2 or max. of 3 students). **Each student will hand in their own file**. If you work with another student, please write her/his name on top of the first cell (in a Markdown cell)."
   ]
  },
  {
   "cell_type": "markdown",
   "metadata": {},
   "source": [
    "**Question-1 (12/15 points): EVOLUTIONARY DECOMPOSITION**\n",
    "\n",
    "\n",
    "**A) (1/12 points)** Import the colonel.obj into MakerBot software and follow the instructions (**printing_settings.pdf**). What is the estimated printing time (you can see it from the preview window)?\n",
    "\n",
    "The original estimated printing time is 4 hours and 11 minutes.\n",
    "\n",
    "<img src=\"http://i.imgur.com/TkVsP2z.png\">\n",
    "\n",
    "\n",
    "**B) (2/12 points)** \n",
    "\n",
    "The estimated printing time for the manual cut is 3 hours and 33 minutes.\n",
    "\n",
    "<img src=\"http://i.imgur.com/EZEHWIw.png\">\n",
    "\n",
    "**At the end, import the two pieces created after the slicing process into MakerBot software and give the new estimated printing time.**\n",
    "\n",
    "**C) (4/12 points)** \n",
    "\n",
    "The estimated printing time for the cut found by the evolutionary algorithm is 3 hours and 34 minutes.\n",
    "\n",
    "\n",
    "<img src=\"http://i.imgur.com/nB6OIMa.png\">\n",
    "\n",
    "**C) (5/12 points)** Prepare your report in the following format:"
   ]
  },
  {
   "cell_type": "markdown",
   "metadata": {},
   "source": [
    "**Abstract**:\n",
    "\n",
    "3D printing has many uses, but one disadvantage is that extra \"support structures\" must be printed for certain objects, in order to maintain the shape of the object. If the angle between the printed surface and the ground is less than 45 degrees, support structures must be added below the object to prevent the object from deforming. In addition, support structures should be minimized since they To work around this problem, objects must be \"sliced\" and printed as separate parts that are glued together after printing. For this project, we found the optimal slicing plane parallel to the Y-Z plane such that the number of support structures in minimized.\n",
    "\n",
    "\n",
    "**Introduction**:\n",
    "\n",
    "3D printing uses a technique called Fused Deposition Modeling (FDM). Typically, a heated nozzle desposits plastic or metal to form layers on a surface. By printing successive layers, a 3D model can be formed. 3D models are usually described in .STL file formats, and printer driver software convert these files to GCODE which is used by the printer.\n",
    "\n",
    "Fused deposition modeling is an additive manufacturing technique. This contrasts with subtractive manufacturing, where one starts with significantly more material than what the object actually consists of. An example of subtractive manufacturing is creating a sculpture from a block of marble. The marble around the sculpture is cut and removed, which means this material is wasted. Additive manufacturing is remarkable because it minimzes waste and cost of printing. However, additive manufacturing with FDM is not very scalable, and the quality of the printed object depends on the quality of the printer. The second problem with FDM is that support structures must be used to keep the shape from deforming, as gravity will bend the plastic used for printing. We focused on this problem in this project.\n",
    "\n",
    "\n",
    "\n",
    "<figure>\n",
    "    <figcaption>Figure 1</figcaption>\n",
    "    <figcaption>Image source: http://printa3d.blogspot.com/p/design-tips.html</figcaption>\n",
    "    <img src=\"http://3.bp.blogspot.com/-pUbw4KI5Fy0/T6c9rNBCJlI/AAAAAAAACHs/RFIM4Q9e7fs/s400/design_tips01.jpg\" />\n",
    "</figure>\n",
    "\n",
    "The support structure problem occurs because heated plastic is used for printing the 3D model. If the model has overhang angles greater than 45 degrees (similar to the models shown in Figure 1). The overhang causes drooping, as there is nothing below the structure to support the layers printed by the nozzle. Because of this drooping problem, support structures are added as shown in Figure 2. However, support structures waste material and can leave \"scars\" on the model. For this reason, the number of support structures should be kept to a minimum. In this project, we found the ideal cutting plane parallel to the Y-Z plane such that the number of support structures is minimized. We used a genetic algorithm implemented wih DEAP to evolve the X-coordinate of this cutting plane.\n",
    "\n",
    "\n",
    "<figure>\n",
    "    <figcaption>Figure 2</figcaption>\n",
    "    <figcaption>Image source: http://3dprintingsystems.com/products/up-mini-3d-printer/</figcaption>\n",
    "    <img src=\"http://3dprintingsystems.com/wp-content/uploads/smart_support_part1.jpg\">\n",
    "</figure>\n",
    "\n",
    "**Methodology**:\n",
    "\n",
    "We used an evolutionary algorithm created with DEAP to find the optimal X-coordinate of the slicing plane such that the number of support structures is minimized. We started with a population size of 15 individuals, where each individual is a single floating-point number ranging from 0 to 100. To calculate the number of support structures (which we use as the \"fitness\"), we call the <tt>slicing</tt> program using the <tt>subprocess</tt> Python module. The <tt>slicing</tt> program takes a 3D model specified in a .OBJ file, and a list of parameters stored in a text file called <tt>cutinfo.txt</tt>. We use the standard output of <tt>slicing</tt> as the fitness value. Since our goal is to minimize the number of support structures, we are actually trying to minimize our fitness. In order to keep terminology consistent, we will hereafter refer to \"fitness\" as \"cost.\"\n",
    "\n",
    "The parameters we use for our evolutionary algorithm are the following:\n",
    "- Number of generations: 20\n",
    "- Population size: 15\n",
    "- Crossover probability: 0.8\n",
    "- Mutation probability: 0.1\n",
    "\n",
    "The statistics we collected were the following:\n",
    "- Minimum cost for each generation\n",
    "- Maximum cost for each generation\n",
    "- Average cost for each generation\n",
    "- Standard deviation of cost for each generation.\n",
    "\n",
    "**Results and Discussions**:\n",
    "\n",
    "* You can provide a figure showing the search space versus fitness values (1D-case: x-position of the cut versus fitness.\n",
    "* You can provide a figure showing the fitness values versus generations. \n",
    "\n",
    "**Conclusions**:\n",
    "\n",
    "* Wrap up your work like you do in Abstract section and provide detailed summary of the results. \n",
    "* If your approach didn't work, you can still give the arguments to help potential readers to avoid the same mistakes.\n",
    "\n",
    "**References**:\n",
    "\n",
    "* List your citations with the order of: Author1, Author2, \"Title of the article\", Name of the Journal or Conference that the paper published at, Pages, Year.  \n"
   ]
  },
  {
   "cell_type": "markdown",
   "metadata": {},
   "source": [
    "**Question-2 (3/15 points): RESEARCH ASSIGNMENT**\n",
    "\n",
    "Please find **3** research papers (**conference or journal publications**) related to 3D printing. You can use [Google Scholar](www.scholar.google.com) and use the search terms \"**3D printing**\" and \"**Siggraph**\" for instance, but you are not limited to. [SIGGRAPH](http://s2016.siggraph.org/conference) is an international conference on computer graphics. Very interesting research and industrial applications about 3D printing are presented every year.\n",
    "\n",
    "Some examples are below (Since I am providing the following papers as examples, don't repeat them):\n",
    "* Jacques Calì, Dan A. Calian, Cristina Amati, Rebecca Kleinberger, Anthony Steed, Jan Kautz, and Tim Weyrich. 2012. 3D-printing of non-assembly, articulated models. ACM Trans. Graph. 31, 6, Article 130 (November 2012), 8 pages. DOI=http://dx.doi.org/10.1145/2366145.2366149\n",
    "* Lin Lu, Andrei Sharf, Haisen Zhao, Yuan Wei, Qingnan Fan, Xuelin Chen, Yann Savoye, Changhe Tu, Daniel Cohen-Or, and Baoquan Chen. 2014. Build-to-last: strength to weight 3D printed objects. ACM Trans. Graph. 33, 4, Article 97 (July 2014), 10 pages. DOI=http://dx.doi.org/10.1145/2601097.2601168\n",
    "\n",
    "**IMPORTANT:** You  need to provide **min. 4 to 5 sentences** (more sentences will be appreciated) about each publication describing the problem being investigated, methodology and results. "
   ]
  },
  {
   "cell_type": "markdown",
   "metadata": {},
   "source": [
    "**THANK YOU**"
   ]
  }
 ],
 "metadata": {
  "kernelspec": {
   "display_name": "Python 2",
   "language": "python",
   "name": "python2"
  },
  "language_info": {
   "codemirror_mode": {
    "name": "ipython",
    "version": 2
   },
   "file_extension": ".py",
   "mimetype": "text/x-python",
   "name": "python",
   "nbconvert_exporter": "python",
   "pygments_lexer": "ipython2",
   "version": "2.7.11"
  }
 },
 "nbformat": 4,
 "nbformat_minor": 0
}
